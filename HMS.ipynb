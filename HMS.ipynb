{
 "cells": [
  {
   "cell_type": "code",
   "execution_count": 27,
   "id": "335114ea-42dd-4657-a180-45575f081c55",
   "metadata": {},
   "outputs": [],
   "source": [
    "from tkinter import *\n",
    "from datetime import datetime"
   ]
  },
  {
   "cell_type": "code",
   "execution_count": 31,
   "id": "bdd25996-780b-4ce0-897e-53c6ad9a8b12",
   "metadata": {},
   "outputs": [
    {
     "name": "stdout",
     "output_type": "stream",
     "text": [
      "2024-02-26\n"
     ]
    }
   ],
   "source": [
    "print(datetime.now().date())"
   ]
  },
  {
   "cell_type": "code",
   "execution_count": 255,
   "id": "165d0178-7007-4b07-8bdb-226e9f02aed7",
   "metadata": {},
   "outputs": [],
   "source": [
    "class Hospital:\n",
    "    def __init__(self,root):\n",
    "        self.root = root\n",
    "        self.root.title('HMS App')\n",
    "        self.root.geometry('1500x800+0+0')\n",
    "\n",
    "        titleLabel = Label(self.root,text = 'Hospital Management System',bg = 'yellow',bd= 10,relief = RIDGE,font=('TKDefaultFont',32,'bold'))\n",
    "        titleLabel.pack(side = TOP,fill = X)\n",
    "                       \n",
    "        dateLabel = Label(self.root,text = datetime.now().date(),bg = 'yellow',font = ('TkDefaultFont',8,'bold')).place(x = 100,y=40,anchor='center')\n",
    "        \n",
    "        dataFrame = Frame(self.root,bd=10,relief = RIDGE)\n",
    "        dataFrame.place(x=0,y=75,width = 1365,height = 400)\n",
    "\n",
    "        leftFrame = LabelFrame(dataFrame,bd= 10,relief = RIDGE,text='Patient Information',font=('TkDefaultFont',10,'bold'))\n",
    "        leftFrame.place(x=0,width = 980,height = 380)\n",
    "\n",
    "        rightFrame = LabelFrame(dataFrame,bd= 10,relief = RIDGE,text='Prescription',font=('TkDefaultFont',10,'bold'))\n",
    "        rightFrame.place(x=980,width =365 ,height = 380)\n",
    "\n",
    "        buttonFrame = Frame(self.root,bd = 10, relief = RIDGE)\n",
    "        buttonFrame.place(y=475,width = 1365,height = 70)\n",
    "\n",
    "        detailFrame = Frame(self.root,bd = 10,relief = RIDGE)\n",
    "        detailFrame.place(y=545,width = 1365,height = 155)\n",
    "\n"
   ]
  },
  {
   "cell_type": "code",
   "execution_count": 256,
   "id": "54a545b9-a4b0-4eb4-9443-57c67842eda0",
   "metadata": {},
   "outputs": [],
   "source": [
    "root = Tk()\n",
    "obj = Hospital(root)\n",
    "root.mainloop()"
   ]
  },
  {
   "cell_type": "code",
   "execution_count": 240,
   "id": "7eeae0cd-fad8-4f4a-beda-96f40e641193",
   "metadata": {},
   "outputs": [
    {
     "data": {
      "text/plain": [
       "545"
      ]
     },
     "execution_count": 240,
     "metadata": {},
     "output_type": "execute_result"
    }
   ],
   "source": [
    "400+75+70\n",
    "\n"
   ]
  },
  {
   "cell_type": "code",
   "execution_count": 241,
   "id": "66254f9c-cc56-4299-8d81-73e65b251a21",
   "metadata": {},
   "outputs": [
    {
     "data": {
      "text/plain": [
       "255"
      ]
     },
     "execution_count": 241,
     "metadata": {},
     "output_type": "execute_result"
    }
   ],
   "source": [
    "800-545"
   ]
  },
  {
   "cell_type": "code",
   "execution_count": null,
   "id": "5d4de988-fc4d-4bfb-b433-28618e206e11",
   "metadata": {},
   "outputs": [],
   "source": []
  }
 ],
 "metadata": {
  "kernelspec": {
   "display_name": "Python 3 (ipykernel)",
   "language": "python",
   "name": "python3"
  },
  "language_info": {
   "codemirror_mode": {
    "name": "ipython",
    "version": 3
   },
   "file_extension": ".py",
   "mimetype": "text/x-python",
   "name": "python",
   "nbconvert_exporter": "python",
   "pygments_lexer": "ipython3",
   "version": "3.12.0"
  }
 },
 "nbformat": 4,
 "nbformat_minor": 5
}
