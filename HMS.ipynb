{
 "cells": [
  {
   "cell_type": "code",
   "execution_count": 1,
   "id": "335114ea-42dd-4657-a180-45575f081c55",
   "metadata": {},
   "outputs": [],
   "source": [
    "from tkinter import*"
   ]
  },
  {
   "cell_type": "code",
   "execution_count": 7,
   "id": "165d0178-7007-4b07-8bdb-226e9f02aed7",
   "metadata": {},
   "outputs": [],
   "source": [
    "class Hospital:\n",
    "    def __init__(self,root):\n",
    "        self.root = root\n",
    "        self.root.title('Hospital Management System')\n",
    "        self.root.geometry('1540x800+0+0')"
   ]
  },
  {
   "cell_type": "code",
   "execution_count": 8,
   "id": "54a545b9-a4b0-4eb4-9443-57c67842eda0",
   "metadata": {},
   "outputs": [],
   "source": [
    "root = Tk()\n",
    "obj = Hospital(root)\n",
    "root.mainloop()"
   ]
  },
  {
   "cell_type": "code",
   "execution_count": null,
   "id": "7eeae0cd-fad8-4f4a-beda-96f40e641193",
   "metadata": {},
   "outputs": [],
   "source": [
    "https://github.com/kaushalsingh0410/HMS-Python.git"
   ]
  }
 ],
 "metadata": {
  "kernelspec": {
   "display_name": "Python 3 (ipykernel)",
   "language": "python",
   "name": "python3"
  },
  "language_info": {
   "codemirror_mode": {
    "name": "ipython",
    "version": 3
   },
   "file_extension": ".py",
   "mimetype": "text/x-python",
   "name": "python",
   "nbconvert_exporter": "python",
   "pygments_lexer": "ipython3",
   "version": "3.12.0"
  }
 },
 "nbformat": 4,
 "nbformat_minor": 5
}
